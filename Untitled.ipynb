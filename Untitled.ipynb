{
 "cells": [
  {
   "cell_type": "code",
   "execution_count": 11,
   "metadata": {
    "collapsed": false
   },
   "outputs": [
    {
     "name": "stdout",
     "output_type": "stream",
     "text": [
      "received tweet no 1\n"
     ]
    }
   ],
   "source": [
    "import json\n",
    "from twython import TwythonStreamer\n",
    "\n",
    "tweets = []\n",
    "\n",
    "CONSUMER_KEY = 'l7IxLkkUlePaCUKrK4r66q2yT'\n",
    "CONSUMER_SECRET = 'ymdrkdkAwA6qQtjzwlZGgVczlSr4eTyngfTOVSOD855lPN1hwM'\n",
    "ACCESS_TOKEN = '803229586268024832-mFWj255hS0MOrmWxXMRe2J5cbVA5kmB'\n",
    "ACCESS_TOKEN_SECRET ='vOnVU6vmGI4fk5CqBrivCjgChgfEY0IWLgQHmDPw0Iztg'\n",
    "\n",
    "class MyStreamer (TwythonStreamer):\n",
    "\n",
    "    def on_success(self, data):\n",
    "        if data['lang'] == 'en':\n",
    "            tweets.append(data)\n",
    "            print 'received tweet no', len(tweets)\n",
    "\n",
    "        if len(tweets) >= 1:\n",
    "            self.disconnect()\n",
    "    def on_error(self, status_code, data):\n",
    "        self.disconnect()\n",
    "\n",
    "\n",
    "stream =MyStreamer(CONSUMER_KEY, CONSUMER_SECRET, ACCESS_TOKEN, ACCESS_TOKEN_SECRET)\n",
    "stream.statuses.filter(track='bbc') #this is your silter/search term you are looking for tweets about...\n",
    "\n",
    "with open(r\"C:\\\\Users\\\\Student24\\\\Documents\\\\twitter\\\\twiiter_python\\\\twitter_weather.json\",\"w\") as tw:    #r+ to append file, \"w\" to over write\n",
    "    json.dump(tweets,tw)\n",
    "\n"
   ]
  },
  {
   "cell_type": "code",
   "execution_count": 12,
   "metadata": {
    "collapsed": false
   },
   "outputs": [],
   "source": [
    "import json\n",
    "\n",
    "with open (r\"C:\\\\Users\\\\Student24\\\\Documents\\\\twitter\\\\twiiter_python\\\\twitter_weather.json\",\"r\") as j:\n",
    "    data = json.load(j) #.load, converts to dict"
   ]
  },
  {
   "cell_type": "code",
   "execution_count": 15,
   "metadata": {
    "collapsed": false
   },
   "outputs": [],
   "source": [
    "import pandas as pd\n",
    "import numpy as np\n",
    "df=pd.DataFrame(data)"
   ]
  },
  {
   "cell_type": "code",
   "execution_count": 16,
   "metadata": {
    "collapsed": false
   },
   "outputs": [
    {
     "data": {
      "text/html": [
       "<div>\n",
       "<table border=\"1\" class=\"dataframe\">\n",
       "  <thead>\n",
       "    <tr style=\"text-align: right;\">\n",
       "      <th></th>\n",
       "      <th>contributors</th>\n",
       "      <th>coordinates</th>\n",
       "      <th>created_at</th>\n",
       "      <th>display_text_range</th>\n",
       "      <th>entities</th>\n",
       "      <th>extended_entities</th>\n",
       "      <th>favorite_count</th>\n",
       "      <th>favorited</th>\n",
       "      <th>filter_level</th>\n",
       "      <th>geo</th>\n",
       "      <th>...</th>\n",
       "      <th>lang</th>\n",
       "      <th>place</th>\n",
       "      <th>possibly_sensitive</th>\n",
       "      <th>retweet_count</th>\n",
       "      <th>retweeted</th>\n",
       "      <th>source</th>\n",
       "      <th>text</th>\n",
       "      <th>timestamp_ms</th>\n",
       "      <th>truncated</th>\n",
       "      <th>user</th>\n",
       "    </tr>\n",
       "  </thead>\n",
       "  <tbody>\n",
       "    <tr>\n",
       "      <th>0</th>\n",
       "      <td>None</td>\n",
       "      <td>None</td>\n",
       "      <td>Fri Dec 02 16:28:05 +0000 2016</td>\n",
       "      <td>[0, 96]</td>\n",
       "      <td>{u'user_mentions': [], u'symbols': [], u'hasht...</td>\n",
       "      <td>{u'media': [{u'expanded_url': u'https://twitte...</td>\n",
       "      <td>0</td>\n",
       "      <td>False</td>\n",
       "      <td>low</td>\n",
       "      <td>None</td>\n",
       "      <td>...</td>\n",
       "      <td>en</td>\n",
       "      <td>{u'full_name': u'Rushden, England', u'url': u'...</td>\n",
       "      <td>False</td>\n",
       "      <td>0</td>\n",
       "      <td>False</td>\n",
       "      <td>&lt;a href=\"http://twitter.com\" rel=\"nofollow\"&gt;Tw...</td>\n",
       "      <td>#BBC #Weather Watcher pictures: #Leek and #Lon...</td>\n",
       "      <td>1480696085807</td>\n",
       "      <td>False</td>\n",
       "      <td>{u'follow_request_sent': None, u'profile_use_b...</td>\n",
       "    </tr>\n",
       "  </tbody>\n",
       "</table>\n",
       "<p>1 rows × 28 columns</p>\n",
       "</div>"
      ],
      "text/plain": [
       "  contributors coordinates                      created_at display_text_range  \\\n",
       "0         None        None  Fri Dec 02 16:28:05 +0000 2016            [0, 96]   \n",
       "\n",
       "                                            entities  \\\n",
       "0  {u'user_mentions': [], u'symbols': [], u'hasht...   \n",
       "\n",
       "                                   extended_entities  favorite_count  \\\n",
       "0  {u'media': [{u'expanded_url': u'https://twitte...               0   \n",
       "\n",
       "  favorited filter_level   geo  \\\n",
       "0     False          low  None   \n",
       "\n",
       "                         ...                          lang  \\\n",
       "0                        ...                            en   \n",
       "\n",
       "                                               place possibly_sensitive  \\\n",
       "0  {u'full_name': u'Rushden, England', u'url': u'...              False   \n",
       "\n",
       "  retweet_count retweeted                                             source  \\\n",
       "0             0     False  <a href=\"http://twitter.com\" rel=\"nofollow\">Tw...   \n",
       "\n",
       "                                                text   timestamp_ms truncated  \\\n",
       "0  #BBC #Weather Watcher pictures: #Leek and #Lon...  1480696085807     False   \n",
       "\n",
       "                                                user  \n",
       "0  {u'follow_request_sent': None, u'profile_use_b...  \n",
       "\n",
       "[1 rows x 28 columns]"
      ]
     },
     "execution_count": 16,
     "metadata": {},
     "output_type": "execute_result"
    }
   ],
   "source": [
    "df"
   ]
  },
  {
   "cell_type": "code",
   "execution_count": 23,
   "metadata": {
    "collapsed": false
   },
   "outputs": [
    {
     "data": {
      "text/html": [
       "<div>\n",
       "<table border=\"1\" class=\"dataframe\">\n",
       "  <thead>\n",
       "    <tr style=\"text-align: right;\">\n",
       "      <th></th>\n",
       "      <th>text</th>\n",
       "      <th>created_at</th>\n",
       "      <th>timestamp_ms</th>\n",
       "    </tr>\n",
       "  </thead>\n",
       "  <tbody>\n",
       "    <tr>\n",
       "      <th>0</th>\n",
       "      <td>#BBC #Weather Watcher pictures: #Leek and #Lon...</td>\n",
       "      <td>Fri Dec 02 16:28:05 +0000 2016</td>\n",
       "      <td>1480696085807</td>\n",
       "    </tr>\n",
       "  </tbody>\n",
       "</table>\n",
       "</div>"
      ],
      "text/plain": [
       "                                                text  \\\n",
       "0  #BBC #Weather Watcher pictures: #Leek and #Lon...   \n",
       "\n",
       "                       created_at   timestamp_ms  \n",
       "0  Fri Dec 02 16:28:05 +0000 2016  1480696085807  "
      ]
     },
     "execution_count": 23,
     "metadata": {},
     "output_type": "execute_result"
    }
   ],
   "source": [
    "dffiltered=df[['text','created_at','timestamp_ms']]\n",
    "dffiltered"
   ]
  },
  {
   "cell_type": "code",
   "execution_count": 24,
   "metadata": {
    "collapsed": false
   },
   "outputs": [
    {
     "data": {
      "text/html": [
       "<div>\n",
       "<table border=\"1\" class=\"dataframe\">\n",
       "  <thead>\n",
       "    <tr style=\"text-align: right;\">\n",
       "      <th></th>\n",
       "      <th>text</th>\n",
       "      <th>created_at</th>\n",
       "      <th>timestamp_ms</th>\n",
       "      <th>retweet_count</th>\n",
       "      <th>favorite_count</th>\n",
       "    </tr>\n",
       "  </thead>\n",
       "  <tbody>\n",
       "    <tr>\n",
       "      <th>0</th>\n",
       "      <td>#BBC #Weather Watcher pictures: #Leek and #Lon...</td>\n",
       "      <td>Fri Dec 02 16:28:05 +0000 2016</td>\n",
       "      <td>1480696085807</td>\n",
       "      <td>0</td>\n",
       "      <td>0</td>\n",
       "    </tr>\n",
       "  </tbody>\n",
       "</table>\n",
       "</div>"
      ],
      "text/plain": [
       "                                                text  \\\n",
       "0  #BBC #Weather Watcher pictures: #Leek and #Lon...   \n",
       "\n",
       "                       created_at   timestamp_ms  retweet_count  \\\n",
       "0  Fri Dec 02 16:28:05 +0000 2016  1480696085807              0   \n",
       "\n",
       "   favorite_count  \n",
       "0               0  "
      ]
     },
     "execution_count": 24,
     "metadata": {},
     "output_type": "execute_result"
    }
   ],
   "source": [
    "dfretweet=df[['text','created_at','timestamp_ms', 'retweet_count', 'favorite_count']]\n",
    "dfretweet"
   ]
  },
  {
   "cell_type": "code",
   "execution_count": 22,
   "metadata": {
    "collapsed": true
   },
   "outputs": [],
   "source": []
  },
  {
   "cell_type": "code",
   "execution_count": null,
   "metadata": {
    "collapsed": true
   },
   "outputs": [],
   "source": []
  }
 ],
 "metadata": {
  "kernelspec": {
   "display_name": "Python [conda root]",
   "language": "python",
   "name": "conda-root-py"
  },
  "language_info": {
   "codemirror_mode": {
    "name": "ipython",
    "version": 2
   },
   "file_extension": ".py",
   "mimetype": "text/x-python",
   "name": "python",
   "nbconvert_exporter": "python",
   "pygments_lexer": "ipython2",
   "version": "2.7.12"
  }
 },
 "nbformat": 4,
 "nbformat_minor": 1
}
